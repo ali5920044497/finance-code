{
  "nbformat": 4,
  "nbformat_minor": 0,
  "metadata": {
    "colab": {
      "name": "Financial derivatives model.ipynb",
      "private_outputs": true,
      "provenance": []
    },
    "kernelspec": {
      "name": "python3",
      "display_name": "Python 3"
    },
    "language_info": {
      "name": "python"
    }
  },
  "cells": [
    {
      "cell_type": "markdown",
      "source": [
        "#مدل های مورد نیاز "
      ],
      "metadata": {
        "id": "kp7N2wAiY04Z"
      }
    },
    {
      "cell_type": "markdown",
      "source": [
        "#مدل بلک شولز مرتون\n",
        "<div dir=\"rtl\">\n",
        "در مدل بلک شولز مرتون قیمت سهام ازمعادله دیفرانسیل تصادفی زیر  پیروی می کند:\n",
        "$$dS = \\mu S dt + \\sigma S\\ dW$$\n",
        "آیا  زمانی که روی این مدل کار می‌کنند، استفاده از $logS$ با لم Itô برای حل این نوع معادله معمول بود ؟\n",
        "حال با استفاده از مدل هندسی زیر از لگ  نرمال استفاده می کنیم\n",
        "$$S_T = S_0 * \\exp^{\\left(\\mu - \\frac{\\sigma^2}{2}\\right)dt + \\sigma dW}$$\n",
        "\n",
        "\n",
        "حل فرم بسته  معادله بلک شولز برای یک اختیار خرید اروپایی $C(S,t)$، با توجه به سررسید $T$ و قیمت اعتصاب $X$ به صورت زیر ارائه می شود:\n",
        "\n",
        "$$C(S,t) = S\\, N(d_{1}) - X\\,e^{-r(T-t)}N(d_{2})\\,$$\n",
        "\n",
        "$$d_{1} = \\frac{\\ln(S/X) + \\left(r + \\frac{\\sigma^{2}}{2}\\right)\\left(T-t\\right)}{\\sigma\\sqrt{T-t}}\\,,$$\n",
        "\n",
        "$$d_{2} = \\frac{\\ln(S/X) + \\left(r - \\frac{\\sigma^{2}}{2}\\right)\\left(T-t\\right)}{\\sigma\\sqrt{T-t}}\\,,$$\n",
        "\n",
        "$$N(d)= \\frac{1}{\\sqrt{2\\pi}}\\int_{-d}^{\\infty} dx\\; e^{-x^{2}/2}\\,.$$\n",
        "<div>\n",
        "\n"
      ],
      "metadata": {
        "id": "0_ah9MeEYgoA"
      }
    },
    {
      "cell_type": "code",
      "source": [
        "import numpy as np\n",
        "import pandas as pd\n",
        "from pandas_datareader import data as dr\n",
        "from scipy.stats import norm\n",
        "import statsmodels.api as sm\n",
        "import matplotlib.pyplot as plt"
      ],
      "metadata": {
        "id": "n9WgAxd1ZN0D"
      },
      "execution_count": null,
      "outputs": []
    },
    {
      "cell_type": "code",
      "source": [
        "# parameter\n",
        "S0 = 384.48\n",
        "K =  385.45\n",
        "T = 1/6  \n",
        "r = 0.151\n",
        "sigma = 0.387"
      ],
      "metadata": {
        "id": "gaZOrMiFcZnh"
      },
      "execution_count": null,
      "outputs": []
    },
    {
      "cell_type": "code",
      "source": [
        "# solution\n",
        "I = 100000\n",
        "ST = 0\n",
        "for i in range(I):\n",
        "  ST += S0*np.exp(sigma*np.sqrt(T)*np.random.normal(0,1)+(r-sigma**2/2)*T)\n",
        "ST = ST/I\n",
        "ST"
      ],
      "metadata": {
        "id": "haeGsao6dN5Q"
      },
      "execution_count": null,
      "outputs": []
    },
    {
      "cell_type": "code",
      "source": [
        "# Black–Scholes formula\n",
        "d1 = (np.log(S0/K) + (r+sigma**2/2)*(T-0)) / (sigma*np.sqrt(T-0))\n",
        "d2 = d1 - sigma*np.sqrt(T-0)\n",
        "\n",
        "C = S0*norm.cdf(d1) - K*np.exp(-r*(T-0))*norm.cdf(d2)   # call option\n",
        "ST = K + C\n",
        "C,ST"
      ],
      "metadata": {
        "id": "MVxSaPaWdw1P"
      },
      "execution_count": null,
      "outputs": []
    },
    {
      "cell_type": "markdown",
      "source": [
        "#مدل کاکس – اینگرسول – راس(CIR)\n",
        "<div dir=\"rtl\">\n",
        "در امور مالی ریاضی، مدل کاکس-اینگرسول-راس (CIR) تکامل نرخ بهره را توصیف می کند. این یک نوع  (مدل نرخ کوتاه) است، زیرا تغییرات نرخ بهره را تنها توسط یک منبع ریسک بازار توصیف می کند.\n",
        "\n",
        "مدل CIR مشخص می‌کند که نرخ بهره آنی ${\\displaystyle r_{t}} $ از معادله دیفرانسیل تصادفی پیروی می‌کند که فرآیند CIR نیز نامیده می‌شود:\n",
        "\n",
        "$${\\displaystyle dr_{t}=a(b-r_{t})\\,dt+\\sigma {\\sqrt {r_{t}}}\\,dW_{t}}$$\n",
        "\n",
        "با یک پارامتر $a$ که سرعت بازگشت به میانگین $b$ را کنترل می کند. ما راه‌حل‌های خود را با استفاده از اویلر-مارایاما تقریب می‌کنیم و ابتدا عبارت‌های تفاوت را جایگزین می‌کنیم\n",
        "$$r_{t+1}-r_t=a(b-r_t)\\Delta t + \\sigma\\sqrt{r_t}(W_{t+1}-W_t).$$\n",
        "این بدان معناست که مرحله تکراری ما محاسبه خواهد شد."
      ],
      "metadata": {
        "id": "Qz_X8Ja5eDTW"
      }
    },
    {
      "cell_type": "code",
      "source": [
        "import math\n",
        "import numpy as np\n",
        "\n",
        "def cir(r0, Y, theta, sigma, T=1., N=10,seed=777):\n",
        "    np.random.seed(seed)\n",
        "    dt = T/float(N)    \n",
        "    rates = [r0]\n",
        "    d_r = []\n",
        "    for i in range(N):\n",
        "        dr = Y*(theta-rates[-1])*dt + sigma*math.sqrt(np.abs(rates[-1]))*np.random.normal()\n",
        "        rates.append(rates[-1] + dr)\n",
        "        d_r.append(dr)\n",
        "    return range(N+1), rates, d_r\n",
        "x, y, dr = cir(0.01 , 0.20, 0.01, 0.012, 10., 200)\n",
        "import matplotlib.pyplot as plt\n",
        "plt.plot(x,y)\n",
        "plt.show()"
      ],
      "metadata": {
        "id": "_AuaTDMqps8C"
      },
      "execution_count": null,
      "outputs": []
    },
    {
      "cell_type": "markdown",
      "source": [
        "#مدل Vasicek\n",
        "<div dir=\"rtl\">\n",
        "در امور مالی، مدل Vasicek یک مدل ریاضی است که تکامل نرخ بهره را توصیف می کند. این یک نوع مدل نرخ کوتاه تک عاملی است زیرا تغییرات نرخ بهره را تنها توسط یک منبع ریسک بازار توصیف می کند.\n",
        "مدل مشخص می کند که نرخ بهره لحظه ای از معادله دیفرانسیل تصادفی پیروی می کند.\n",
        "$$dr_t = a (b - r_t)dt + \\sigma dW_t$$\n"
      ],
      "metadata": {
        "id": "XrBOv4KorJQC"
      }
    },
    {
      "cell_type": "code",
      "source": [
        "import numpy as np\n",
        "from matplotlib import pyplot\n",
        "\n",
        "def OuSim(r0, K, theta, sigma, T, N):\n",
        "    #a function to simulate the Ornstein–Uhlenbeck process\n",
        "    dt = T/float(N)    \n",
        "    rates = [r0]\n",
        "    for i in range(N):\n",
        "        dr = K*(theta-rates[-1])*dt + sigma*np.sqrt(dt)*np.random.normal()\n",
        "        rates.append(rates[-1] + dr)\n",
        "\n",
        "    #cumsum alternative to by pass the loop is under construction#\n",
        "        \n",
        "    return rates\n",
        "\n",
        "r0 = 0.005\n",
        "K = 0.20\n",
        "theta = 0.01\n",
        "sigma = 0.012\n",
        "T = 1\n",
        "N = 100\n",
        "\n",
        "seed = 123\n",
        "np.random.seed(seed)\n",
        "print(*range(1, 10))\n",
        "\n",
        "x = range(N+1)\n",
        "y = OuSim(r0, K, theta, sigma, T, N)\n",
        "\n",
        "pyplot.title(r'Short rate, $r_t$')\n",
        "pyplot.ylabel('Sequence value')\n",
        "pyplot.xlabel('No. of observations')\n",
        "pyplot.plot(x, y)\n",
        "pyplot.show()"
      ],
      "metadata": {
        "id": "nVWBKKW1szi0"
      },
      "execution_count": null,
      "outputs": []
    },
    {
      "cell_type": "markdown",
      "source": [
        "#مدل نوسان تصادفی هستون\n",
        "<div dir=\"rtl\">\n",
        "مدل هستون که در سال 1993 معرفی شد، یک مدل نوسانات تصادفی است که در \n",
        "آن پویایی قیمت سهام ریسک خنثی توسط  معادله زیر نشان داده می شود.\n",
        "\n",
        "$$dS_t = (r-q) S_t dt + \\sigma_t S_t\\ dW_t^1$$\n",
        "\n",
        "$${\\displaystyle d\\sigma_t^2=k(\\eta-\\sigma_t^2)\\,dt+\\theta -\\sigma_t\\,dW_{t}^2}$$\n",
        "$$Cov (dW_t^1 dW_t^2 )= ρdt$$\n",
        "که درآن  $r$ نرخ بهره خنثی ریسک است و $W_t^ 1$   و $W_t^ 2$   دو فرآیند حرکت براونی  استاندارد هستند. در حالی که نوسانات در مدل بلک شولز ثابت فرض می شود، نوسان در مدل هستون از یک فرآیند تصادفی کاکس-اینگرسول-راس CIR پیروی می کند که برای اولین بار با موفقیت در حوزه مدل سازی نرخ بهره استفاده شد. فرآیند CIR برگرداندن میانگین است و پارامتر $k$ نرخی را کنترل می‌کند که در آن فرآیند به میانگین بلندمدت $η$ بر می‌گردد. مقادیر بالای $k$ فرآیند را اساساً قطعی می کند زیرا هر گونه انحراف از $η$ به سرعت هموار می شود. گنجاندن نوسانات تصادفی باعث می شود که مدل به اندازه کافی انعطاف پذیر باشد تا چولگی مشاهده شده تجربی در نوسانات ضمنی را به تصویر بکشد. پارامتر $ρ$ همبستگی بین پایه و نوسان است در حالی که θ نوسانات نوسانات است (یعنی نوسانات واریانس بازده). چولگی توزیع بازدهی فرآیند قیمت در مدل توسط $ρ$ کنترل می شود در حالی که $θ$ بر کشیدگی تأثیر می گذارد.\n",
        "\n",
        "تابع مشخصه فرآیند لگاریتم قیمت در مدل هستون، که یک مشتق از آن را می توان در  یافت به صورت زیر ارائه می شود:\n",
        "$$ϕ(u,t)=E[e^{iu log⁡(S_t ) } |  S_0,σ_0^2]= e^{A(u,t)+B(u,t)+C(u,t)}$$\n",
        "که در آن\n",
        "$$A(u,t)= iu log⁡(S_0 )+iu(r-q)t$$\n",
        "$$B(u,t)=(ηk )/θ^2  (k- ρθiu-d)t-2log⁡((1-ge^{-dt})/(1-g))$$\n",
        "$$C(u,t)=   \\frac{\\frac{σ_0}{θ^2}  (k- ρθiu-d)(1-e^{-dt})} {(1-ge^{-dt})}$$\n",
        "\n",
        "$$d(u)= \\sqrt{( ρθiu-k)^2+θ^2 (ui+u^2)}$$\n",
        "\n",
        "\n",
        "$$g(u)=  \\frac{(k- ρθiu-d)}{ (k- ρθiu+d) }$$\n",
        "\n",
        "\n"
      ],
      "metadata": {
        "id": "nAjVNyRn2t0B"
      }
    },
    {
      "cell_type": "code",
      "source": [
        "import numpy as np\n",
        "import pandas as pd\n",
        "import math as math\n",
        "import cmath as cmath\n",
        "from scipy import integrate\n",
        "\n",
        "\n",
        "# characteristic function\n",
        "def f(phi, kappa, theta, sigma, rho, v0, r, T, s0, status):\n",
        "    \n",
        "    a = kappa * theta\n",
        "    x = math.log(s0)\n",
        "    \n",
        "    # remind that lamda is zero\n",
        "    if status == 1:\n",
        "        u = 0.5\n",
        "        b = kappa - rho * sigma\n",
        "    else:\n",
        "        u = -0.5\n",
        "        b = kappa\n",
        "    \n",
        "    d = cmath.sqrt((rho * sigma * phi * 1j - b)**2 - sigma**2 * (2 * u * phi * 1j - phi**2))\n",
        "    g = (b - rho * sigma * phi * 1j + d) / (b - rho * sigma * phi * 1j - d)\n",
        "    \n",
        "    C = r * phi * 1j * T + (a / sigma**2)*((b - rho * sigma * phi * 1j + d) * T - 2 * cmath.log((1 - g * cmath.exp(d * T))/(1 - g)))\n",
        "    D = (b - rho * sigma * phi * 1j + d) / sigma**2 * ((1 - cmath.exp(d * T)) / (1 - g * cmath.exp(d * T)))\n",
        "    \n",
        "    return cmath.exp(C + D * v0 + 1j * phi * x)\n",
        "# P1 and P2\n",
        "def p(kappa, theta, sigma, rho, v0 ,r ,T ,s0 , K, status):\n",
        "    \n",
        "    \n",
        "    integrand = lambda phi: (cmath.exp(-1j * phi * cmath.log(K)) * f(phi, kappa, \\\n",
        "                              theta, sigma, rho, v0, r, T, s0, status) / (1j * phi)).real \n",
        "    \n",
        "    return (0.5 + (1 / math.pi) * integrate.quad(integrand, 0, 100)[0]) # approximate indefinite intergral with a definite one\n",
        "\n",
        "def p1(kappa, theta, sigma, rho, v0 ,r ,T ,s0 ,K):\n",
        "    return p(kappa, theta, sigma, rho, v0 ,r ,T ,s0 ,K, 1)\n",
        "\n",
        "def p2(kappa, theta, sigma, rho, v0 ,r ,T ,s0 ,K):\n",
        "    return p(kappa, theta, sigma, rho, v0 ,r ,T ,s0 ,K, 2)\n",
        "# call price\n",
        "def call_price(kappa, theta, sigma, rho, v0 ,r ,T ,s0 ,K):\n",
        "    \n",
        "    P1 = p1(kappa, theta, sigma, rho, v0 ,r ,T ,s0 ,K)\n",
        "    P2 = p2(kappa, theta, sigma, rho, v0 ,r ,T ,s0 ,K)\n",
        "    \n",
        "    result = (s0 * P1 - K * math.exp(-r * T) * P2)\n",
        "    print(result)\n",
        "    \n",
        "    if result<0:\n",
        "        result = 0\n",
        "        \n",
        "    return result\n",
        "\n",
        "sigma = 0.61\n",
        "theta = 0.019\n",
        "kappa = 6.21\n",
        "rho = -0.5\n",
        "strike = 1.5\n",
        "r=0\n",
        "s0=2\n",
        "v0=0.01\n",
        "T=1\n",
        "call_price(kappa, theta, sigma, rho, v0 ,r , T ,s0, strike)"
      ],
      "metadata": {
        "id": "7CwbR_MCKdkj"
      },
      "execution_count": null,
      "outputs": []
    },
    {
      "cell_type": "code",
      "source": [
        ""
      ],
      "metadata": {
        "id": "t45MJKmgKhvx"
      },
      "execution_count": null,
      "outputs": []
    }
  ]
}