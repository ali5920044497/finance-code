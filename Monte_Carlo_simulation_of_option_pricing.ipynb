{
  "nbformat": 4,
  "nbformat_minor": 0,
  "metadata": {
    "colab": {
      "name": "Monte Carlo simulation of option pricing.ipynb",
      "private_outputs": true,
      "provenance": [],
      "collapsed_sections": []
    },
    "kernelspec": {
      "name": "python3",
      "display_name": "Python 3"
    },
    "language_info": {
      "name": "python"
    }
  },
  "cells": [
    {
      "cell_type": "markdown",
      "source": [
        "\n",
        "#قیمت گذاری اختیار با روش مونت کارلو\n"
      ],
      "metadata": {
        "id": "bnT1adq9KuMc"
      }
    },
    {
      "cell_type": "markdown",
      "source": [
        "<div dir=\"rtl\">\n",
        "هدف این نوت بوک بررسی روش های مختلف برای ارزیابی اختیار ها در چارچوب مدل قیمت گذاری بلک شولز با استفاده از پایتون است. به طور خاص، برای قیمت‌گذاری اختیارهای تماس اروپایی به روش‌های مونت کارلو تکیه می‌کنیم و نتایج را با نتایج به‌دست‌آمده از راه‌حل دقیق بلک شولز مقایسه می‌کنیم.\n",
        "\n",
        "به عنوان یک مقدمه ، مدل بلک شولز بیان می کند که قیمت دارایی به عنوان تابعی از زمان$S(t)$ از یک حرکت هندسی براونی پیروی می کند:\n",
        "\n",
        "$$dS=S\\mu dt + S \\sigma dW $$\n",
        "\n",
        "سپس یک اختیار $f$ داشته باشید که تابعی از $S$ و $t$ خواهد بود. سپس، روندی که این اختیار دنبال می‌کند به شرح زیر خواهد بود:\n",
        "$$df = \\left( \\frac{\\partial f}{\\partial S}\\mu S + \\frac{\\partial f}{\\partial t} + \\frac{1}{2}\\sigma^{2}S^{2}\\frac{\\partial^{2}f}{\\partial S^{2}}\\right)dt + \\frac{\\partial f}{\\partial S}\\sigma S dz\\,$$\n",
        "\n",
        "اجازه دهید پورتفولیوی زیر $\\Pi$ را در نظر بگیریم که شامل گزینه $f$ و $\\Delta$ مقدار معینی از $S$ اساسی است:\n",
        "\n",
        "$$\\Pi = f + \\Delta S\\,$$\n",
        "\n",
        "سپس، این نمونه کارها روند زیر را دنبال می کند:\n",
        "\n",
        "$$d\\Pi = - df +\\frac{\\partial f}{\\partial S} dS = \\left( -\\frac{\\partial f}{\\partial t} - \\frac{1}{2}\\sigma^{2}S^{2}\\frac{\\partial^{2} f}{\\partial S^{2}} \\right)dt\\,$$\n",
        "\n",
        "ما تنظیم کرده ایم:\n",
        "\n",
        "$$\\Delta = \\partial f / \\partial S\\,$$\n",
        "\n",
        "با ترکیب این معادلات برای $d\\Pi$، به این نتیجه می رسیم:\n",
        "\n",
        "$$\\frac{\\partial f}{ \\partial t} + r\\,S\\frac{\\partial f}{\\partial S} +\\frac{1}{2}\\sigma^{2}S^{2}\\frac{\\partial^{2}f}{\\partial S^{2}} = r\\,f\\,$$\n",
        "\n",
        "که معادله بلک شولز است.\n",
        "\n",
        "حل معادله بلک شولز برای یک اختیار خرید اروپایی $C(S,t)$، با توجه به سررسید $T$ و قیمت اعتصاب $X$ به صورت زیر ارائه می شود:\n",
        "\n",
        "$$C(S,t) = S\\, N(d_{1}) - X\\,e^{-r(T-t)}N(d_{2})\\,$$\n",
        "\n",
        "$$d_{1} = \\frac{\\ln(S/X) + \\left(r + \\frac{\\sigma^{2}}{2}\\right)\\left(T-t\\right)}{\\sigma\\sqrt{T-t}}\\,,$$\n",
        "\n",
        "$$d_{2} = \\frac{\\ln(S/X) + \\left(r - \\frac{\\sigma^{2}}{2}\\right)\\left(T-t\\right)}{\\sigma\\sqrt{T-t}}\\,,$$\n",
        "\n",
        "$$N(d)= \\frac{1}{\\sqrt{2\\pi}}\\int_{-d}^{\\infty} dx\\; e^{-x^{2}/2}\\,.$$\n",
        "<div>"
      ],
      "metadata": {
        "id": "e3lxUevJL07m"
      }
    },
    {
      "cell_type": "markdown",
      "source": [
        "#راه حل دقیق\n",
        "<div dir=\"rtl\">\n",
        "اجازه دهید ابتدا روی راه حل دقیق برای قیمت گزینه تماس $C(S,t)$ تمرکز کنیم.\n",
        "\n",
        "<div>"
      ],
      "metadata": {
        "id": "cxmjA98HVb-u"
      }
    },
    {
      "cell_type": "code",
      "execution_count": null,
      "metadata": {
        "id": "ZpQvsNWfKs_8"
      },
      "outputs": [],
      "source": [
        "import numpy as np\n",
        "import pandas as pd\n",
        "from scipy import log,exp,sqrt,stats\n",
        "import matplotlib.pyplot as plt\n",
        "import seaborn as sns\n",
        "sns.set()\n",
        "%matplotlib inline\n",
        "plt.style.use('fivethirtyeight')\n",
        "import numpy.random as npr"
      ]
    },
    {
      "cell_type": "markdown",
      "source": [
        "<div dir=\"rtl\">\n",
        "ما راه حل دقیق را مستقیماً تعریف می کنیم:\n",
        "<div>"
      ],
      "metadata": {
        "id": "187nAMNSWKBg"
      }
    },
    {
      "cell_type": "code",
      "source": [
        "def BS_Call_Exact(S,X,r,sigma,T,t):\n",
        "\n",
        "    d1 = (log(S/X)+(r+((sigma**2)/2))*(T-t))/(sigma*sqrt((T-t)))\n",
        "    d2 = d1-sigma*sqrt((T-t))\n",
        "    \n",
        "    ST = S*stats.norm.cdf(d1) - X*exp(-r*(T-t))*stats.norm.cdf(d2)\n",
        "    \n",
        "    return ST"
      ],
      "metadata": {
        "id": "5kt8Vzm2V_MM"
      },
      "execution_count": null,
      "outputs": []
    },
    {
      "cell_type": "code",
      "source": [
        "t = np.arange(0.75, 1.0, 0.0001)\n",
        "\n",
        "plt.figure(figsize = (10,8))\n",
        "sns.lineplot(t,BS_Call_Exact(100,95,0.06,0.3,1,t), label = 'X = 95')\n",
        "sns.lineplot(t,BS_Call_Exact(100,98,0.06,0.3,1,t), label = 'X = 98')\n",
        "sns.lineplot(t,BS_Call_Exact(100,100,0.06,0.3,1,t), label='X = 100')\n",
        "sns.lineplot(t,BS_Call_Exact(100,105,0.06,0.3,1,t), label = 'X = 105')\n",
        "\n",
        "plt.xlabel('t')\n",
        "plt.ylabel('C')\n",
        "plt.ylim(-0.5, 8)\n",
        "\n",
        "plt.legend()\n",
        "plt.show()"
      ],
      "metadata": {
        "id": "hVsrXrVDWaCJ"
      },
      "execution_count": null,
      "outputs": []
    },
    {
      "cell_type": "markdown",
      "source": [
        "<div dir=\"rtl\">\n",
        "به طور خاص، برای $T-t=0$، ما تابع استاندارد برای اختیار خرید در سررسید داریم:\n",
        "<div>"
      ],
      "metadata": {
        "id": "mGCAg_g6XDKw"
      }
    },
    {
      "cell_type": "code",
      "source": [
        "s = np.arange(95, 105, 0.01)\n",
        "\n",
        "plt.figure(figsize = (10,8))\n",
        "sns.lineplot(s,BS_Call_Exact(s,100,0.06,0.3,1,0.99999), label = 'X = 100')\n",
        "\n",
        "plt.xlabel('S')\n",
        "plt.ylabel('C(t=T)')\n",
        "\n",
        "plt.legend()\n",
        "plt.show()"
      ],
      "metadata": {
        "id": "YMPg6Mh0XMUR"
      },
      "execution_count": null,
      "outputs": []
    },
    {
      "cell_type": "markdown",
      "source": [
        "#شبیه سازی مونت کارلو"
      ],
      "metadata": {
        "id": "L30LRq08XWHX"
      }
    },
    {
      "cell_type": "markdown",
      "source": [
        "<div dir=\"rtl\">\n",
        "یک راه جایگزین برای محاسبه قیمت اختیار خرید، استفاده از روش‌های مونت کارلو است. نقطه شروع، گرفتن معادله حرکت براونی برای سهام اصلی $S(t)$ است:\n",
        "\n",
        "$$dS = S\\,r dt +S\\sigma dz\\,,$$\n",
        "\n",
        "جایی که ما $\\mu =r$ را تنظیم کرده ایم، زیرا در یک محیط بدون ریسک کار می کنیم. این معادله را می توان با طرح اویلر گسسته کرد. با انجام این کار، سطح شاخص سهام $S_T$ را در $T$ آینده با سطح $S_t$ به صورت زیر بدست می آوریم:\n",
        "\n",
        "$$S_{T} = S_{t}\\exp\\left(\\left(r-\\frac{1}{2}\\sigma^{2}\\right)(T-t) +\\sigma \\sqrt{T-t}\\,z\\right)\\,,$$\n",
        "\n",
        "که در آن $z$ یک متغیر تصادفی است که از توزیع نرمال پیروی می کند.\n",
        "<div>"
      ],
      "metadata": {
        "id": "OZvqNRUBXdvd"
      }
    },
    {
      "cell_type": "code",
      "source": [
        "r=0.06\n",
        "sigma = 0.3\n",
        "T = 1.0\n",
        "S0 = 100\n",
        "\n",
        "I = 100000\n",
        "M = 100\n",
        "\n",
        "dt = T/M\n",
        "\n",
        "S = np.zeros((M+1, I))\n",
        "S[0] = S0\n",
        "for t in range(1,M+1):\n",
        "    S[t] = S[t-1]*exp((r -0.5*sigma**2)*dt +sigma*sqrt(dt)*npr.standard_normal(I))"
      ],
      "metadata": {
        "id": "Q4zi9VQRXamm"
      },
      "execution_count": null,
      "outputs": []
    },
    {
      "cell_type": "code",
      "source": [
        "plt.figure(figsize=(10, 8))\n",
        "plt.hist(S[-1], bins=100)\n",
        "plt.xlabel('S(T)')\n",
        "plt.ylabel('frequency')\n",
        "plt.show()"
      ],
      "metadata": {
        "id": "QlOUk1xoZaEE"
      },
      "execution_count": null,
      "outputs": []
    },
    {
      "cell_type": "code",
      "source": [
        "plt.figure(figsize=(10, 8))\n",
        "plt.plot(S[:, :6])\n",
        "plt.xlabel('t')\n",
        "plt.ylabel('S(t)')\n",
        "plt.show()"
      ],
      "metadata": {
        "id": "QMXwWtZnZe1B"
      },
      "execution_count": null,
      "outputs": []
    },
    {
      "cell_type": "markdown",
      "source": [
        "<div dir=\"rtl\">\n",
        "اکنون که در مورد یک اختیار خرید، تابع پرداخت در سررسید $T$ توسط:\n",
        "\n",
        "$$\\ h(S_{T}) = \\max \\left( S_{T}-X,0\\right)\\,.$$\n",
        "\n",
        "سپس، در بازار بدون ریسک، می توان نشان داد که قیمت اختیار خرید به صورت زیر داده می شود:\n",
        "$$C(T)  = e^{-r(T-t)}\\int_{-\\infty}^{\\infty}dS_{T}\\,h(S_{T})\\,q(S_{T})\\,,$$\n",
        "\n",
        "که در آن $q(S)$ چگالی احتمال برای فرآیند مارتینگل معادل S_t$ است. این انتگرال در واقع می تواند گسسته شود، و به دست می آید:\n",
        "\n",
        "$$C(T) = e^{-r(T-t)}\\frac{1}{I}\\sum_{i = 1}^{I}h(S_{T}^{i})\\,,$$\n",
        "\n",
        "که در آن مجموع بر روی یک مجموعه $S_{T}^{i}$ به دنبال یک حرکت براونی هندسی که می تواند توسط شبیه سازی مونت کارلو ایجاد شود، گرفته می شود.\n",
        "<div>"
      ],
      "metadata": {
        "id": "JSfkToJKZzp4"
      }
    },
    {
      "cell_type": "code",
      "source": [
        "def BS_Call_MC(S,X,r,sigma,T,t,I):\n",
        "    \n",
        "    data = np.zeros((I, 2))\n",
        "    \n",
        "    z = np.random.normal(0, 1, [1, I])\n",
        "    \n",
        "    #z = npr.standard_normal(I)\n",
        "    \n",
        "    ST = S*exp((T-t)*(r - 0.5*sigma**2)+sigma*sqrt(T-t)*z)\n",
        "    \n",
        "    data[:,1] = ST - X\n",
        "    \n",
        "    average = np.sum(np.amax(data, axis=1))/float(I)\n",
        "    \n",
        "    return np.exp(-r*(T-t))*average"
      ],
      "metadata": {
        "id": "PN3xwjKGZjZR"
      },
      "execution_count": null,
      "outputs": []
    },
    {
      "cell_type": "markdown",
      "source": [
        "<div dir=\"rtl\">\n",
        "\n",
        "ما نتیجه مونت کارلو را برای مقادیر مختلف مقایسه می کنیم و می بینیم که نتیجه خوب یداده :\n",
        "<div>"
      ],
      "metadata": {
        "id": "x20Ch33Wb0xb"
      }
    },
    {
      "cell_type": "code",
      "source": [
        "print('Monte Carlo:',BS_Call_MC(100,95,0.06,0.3,1,.999,100000))\n",
        "print('Exact: ',BS_Call_Exact(100,95,0.06,0.3,1,.999))"
      ],
      "metadata": {
        "id": "TDSYyZDVcCAw"
      },
      "execution_count": null,
      "outputs": []
    },
    {
      "cell_type": "code",
      "source": [
        "print('Monte Carlo:',BS_Call_MC(100,95,0.06,0.3,1,.75,100000))\n",
        "print('Exact: ',BS_Call_Exact(100,95,0.06,0.3,1,.75))"
      ],
      "metadata": {
        "id": "C2ndIJm5cHFS"
      },
      "execution_count": null,
      "outputs": []
    },
    {
      "cell_type": "code",
      "source": [
        "df = pd.DataFrame(columns=['Iter','BSc'])\n",
        "\n",
        "for i in range(1, 100000, 500):\n",
        "    \n",
        "    df = df.append({'Iter': i, 'BSc': BS_Call_MC(100,95,0.06,0.3,1,0.75,i)}, ignore_index=True)\n",
        "\n",
        "\n",
        "plt.figure(figsize=(10,8))\n",
        "\n",
        "plt.hlines(BS_Call_Exact(100,95,0.06,0.3,1,0.75),xmin=0,xmax= 100000,linestyle='dotted',colors='red',label = 'Exact')\n",
        "plt.plot(df.set_index('Iter'),lw = 1.5, label = 'Monte Carlo')\n",
        "\n",
        "plt.title('S=100, X=95, T-t=0.25')\n",
        "plt.xlabel('Iterations')\n",
        "plt.ylabel('C')\n",
        "plt.ylim(BS_Call_Exact(100,95,0.06,0.3,1,0.75)-1,BS_Call_Exact(100,95,0.06,0.3,1,0.75)+1)\n",
        "plt.legend()\n",
        "plt.show()"
      ],
      "metadata": {
        "id": "SgDz2Y60cL7J"
      },
      "execution_count": null,
      "outputs": []
    },
    {
      "cell_type": "code",
      "source": [
        "df = pd.DataFrame(columns=['Iter','BSc'])\n",
        "\n",
        "for i in range(1, 100000, 500):\n",
        "    \n",
        "    df = df.append({'Iter': i, 'BSc': BS_Call_MC(100,95,0.06,0.3,1,0.99,i)}, ignore_index=True)\n",
        "\n",
        "\n",
        "plt.figure(figsize=(10,8))\n",
        "\n",
        "plt.plot(df.set_index('Iter'),lw = 1.5)\n",
        "plt.hlines(BS_Call_Exact(100,95,0.06,0.3,1,0.99),xmin=0,xmax= 100000,linestyle='dotted',colors='red')\n",
        "\n",
        "plt.title('S=100, X=95, T-t=0.001')\n",
        "plt.xlabel('Iterations')\n",
        "plt.ylabel('C')\n",
        "plt.ylim(BS_Call_Exact(100,95,0.06,0.3,1,0.99)-1,BS_Call_Exact(100,95,0.06,0.3,1,0.99)+1)\n",
        "\n",
        "plt.show()\n"
      ],
      "metadata": {
        "id": "amFL1jClcZw5"
      },
      "execution_count": null,
      "outputs": []
    },
    {
      "cell_type": "code",
      "source": [
        ""
      ],
      "metadata": {
        "id": "AHalMyGucrF7"
      },
      "execution_count": null,
      "outputs": []
    }
  ]
}