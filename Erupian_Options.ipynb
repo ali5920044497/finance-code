{
  "nbformat": 4,
  "nbformat_minor": 0,
  "metadata": {
    "colab": {
      "name": "Erupian Options.ipynb",
      "private_outputs": true,
      "provenance": [],
      "collapsed_sections": []
    },
    "kernelspec": {
      "name": "python3",
      "display_name": "Python 3"
    },
    "language_info": {
      "name": "python"
    }
  },
  "cells": [
    {
      "cell_type": "markdown",
      "source": [
        "#قیمت اختیار اروپایی\n"
      ],
      "metadata": {
        "id": "aYMqbI58bkGj"
      }
    },
    {
      "cell_type": "markdown",
      "source": [
        "**کتاب خانه های مورد نیاز**"
      ],
      "metadata": {
        "id": "GxwRFn2DcA4z"
      }
    },
    {
      "cell_type": "code",
      "execution_count": null,
      "metadata": {
        "id": "meJDCoCxa5ZR"
      },
      "outputs": [],
      "source": [
        "import numpy as np\n",
        "from scipy.stats import norm\n",
        "import matplotlib.pyplot as plt\n",
        "import pandas_datareader.data as web\n",
        "import pandas as pd\n",
        "import datetime as dt"
      ]
    },
    {
      "cell_type": "code",
      "source": [
        "SMALL_SIZE = 16\n",
        "\n",
        "plt.rc('xtick', labelsize=SMALL_SIZE)    # fontsize of the tick labels\n",
        "plt.rc('ytick', labelsize=SMALL_SIZE)    # fontsize of the tick labels"
      ],
      "metadata": {
        "id": "QBCyXUhRcG4J"
      },
      "execution_count": null,
      "outputs": []
    },
    {
      "cell_type": "markdown",
      "source": [
        "$k$ قیمت اعمال \n",
        "\n",
        "$s$ قیمت سهام \n",
        "\n",
        "$$payaff(Call)=max(S-K,0)$$\n",
        "\n",
        "$$payaff(Put)=max(K-S,0)$$"
      ],
      "metadata": {
        "id": "7c2LRc5AfUSt"
      }
    },
    {
      "cell_type": "code",
      "source": [
        "def payoff_call(sT,x):\n",
        "    return max(0, sT - x)\n",
        "\n",
        "def payoff_put(sT,x):\n",
        "    return max(0, x - sT)\n",
        "\n",
        "def pl_call(sT,x, c):\n",
        "    return max(-c, sT - x - c)\n",
        "\n",
        "def pl_put(sT, x, p):\n",
        "    return max(-p, x - sT - p)"
      ],
      "metadata": {
        "id": "dhyoBPxxe5LD"
      },
      "execution_count": null,
      "outputs": []
    },
    {
      "cell_type": "code",
      "source": [
        "v_pl_call = np.vectorize(pl_call)\n",
        "v_pl_put = np.vectorize(pl_put)"
      ],
      "metadata": {
        "id": "jDcZdt4jgSHv"
      },
      "execution_count": null,
      "outputs": []
    },
    {
      "cell_type": "markdown",
      "source": [
        "پرداخت Grafico dei"
      ],
      "metadata": {
        "id": "hbMkd8vegXov"
      }
    },
    {
      "cell_type": "code",
      "source": [
        "font = {'color':  'black',\n",
        "        'weight': 'normal',\n",
        "        'size': 16\n",
        "       }\n",
        "\n",
        "s = np.arange(10,80,5)\n",
        "x=40\n",
        "payoff=(abs(s-x)+s-x)/2\n",
        "plt.figure(figsize=(16,9))\n",
        "plt.ylim(-10,50)\n",
        "plt.plot(s,payoff)\n",
        "plt.title(\"Payoff for a call (strike=40)\", fontdict=font)\n",
        "plt.xlabel(\"underlying price\", fontdict=font)\n",
        "plt.ylabel(\"Payoff of a call\", fontdict=font)\n",
        "plt.grid(True)\n",
        "plt.show()"
      ],
      "metadata": {
        "id": "iWA8VWBqhJW0"
      },
      "execution_count": null,
      "outputs": []
    },
    {
      "cell_type": "code",
      "source": [
        "s = np.arange(10,80,5)\n",
        "x=40\n",
        "payoff=(abs(x-s)+x-s)/2\n",
        "plt.figure(figsize=(16,9))\n",
        "plt.ylim(-10,50)\n",
        "plt.plot(s,payoff)\n",
        "plt.title(\"Payoff for a put (strike=40)\", fontdict=font)\n",
        "plt.xlabel(\"underlying price\", fontdict=font)\n",
        "plt.ylabel(\"Payoff of a put\", fontdict=font)\n",
        "plt.grid(True)\n",
        "plt.show()"
      ],
      "metadata": {
        "id": "aWIFeparhX5H"
      },
      "execution_count": null,
      "outputs": []
    },
    {
      "cell_type": "markdown",
      "source": [
        "**سود و زیان ناشی از خرید و فروش اختیار خرید**"
      ],
      "metadata": {
        "id": "xDPPvbkKhmze"
      }
    },
    {
      "cell_type": "code",
      "source": [
        "fig, axs = plt.subplots(1, 2, figsize=(16,6))\n",
        "\n",
        "s = np.arange(30,70,5)\n",
        "x = 45;c = 2.5\n",
        "y = v_pl_call(s, x, c)\n",
        "y2 = np.zeros(len(s))\n",
        "\n",
        "axs[0].set_ylim(-20,20)\n",
        "axs[0].plot(s,y)\n",
        "axs[0].plot(s,y2,'-.')\n",
        "axs[0].set_title(\"Profit/Loss function for a long call option\", fontdict=font)\n",
        "axs[0].set_xlabel('Underlying price', fontdict=font)\n",
        "axs[0].set_ylabel('Profit (loss)', fontdict=font)\n",
        "\n",
        "axs[1].set_ylim(-20,20)\n",
        "axs[1].plot(s,-y)\n",
        "axs[1].plot(s,y2,'-.')\n",
        "axs[1].set_title(\"Profit/Loss function for a short call option\", fontdict=font)\n",
        "axs[1].set_xlabel('Underlying price', fontdict=font)\n",
        "axs[1].set_ylabel('Profit (loss)', fontdict=font)\n",
        "\n",
        "axs[0].grid(True)\n",
        "axs[1].grid(True)\n",
        "plt.show()"
      ],
      "metadata": {
        "id": "3PwxUosChrfG"
      },
      "execution_count": null,
      "outputs": []
    },
    {
      "cell_type": "markdown",
      "source": [
        "**سود و زیان ناشی از خرید و فروش یک اختیار فروش**"
      ],
      "metadata": {
        "id": "qRxd0mmPiFs9"
      }
    },
    {
      "cell_type": "code",
      "source": [
        "fig, axs = plt.subplots(1, 2, figsize=(16,6))\n",
        "\n",
        "s = np.arange(30,60,5)\n",
        "x = 45;c = 2.5\n",
        "y = v_pl_put(s, x, c)\n",
        "y2 = np.zeros(len(s))\n",
        "\n",
        "axs[0].set_ylim(-20, 20)\n",
        "axs[0].plot(s,y)\n",
        "axs[0].plot(s,y2,'-.')\n",
        "axs[0].set_title(\"Profit/Loss function for a long put option\", fontdict=font)\n",
        "axs[0].set_xlabel('Underlying price', fontdict=font)\n",
        "axs[0].set_ylabel('Profit (loss)', fontdict=font)\n",
        "\n",
        "axs[1].set_ylim(-20, 20)\n",
        "axs[1].plot(s,-y)\n",
        "axs[1].plot(s,y2,'-.')\n",
        "axs[1].set_title(\"Profit/Loss function for a short put option\", fontdict=font)\n",
        "axs[1].set_xlabel('Underlying price', fontdict=font)\n",
        "axs[1].set_ylabel('Profit (loss)', fontdict=font)\n",
        "\n",
        "axs[0].grid(True)\n",
        "axs[1].grid(True)\n",
        "plt.show()"
      ],
      "metadata": {
        "id": "V2Rrfe7Yh5WX"
      },
      "execution_count": null,
      "outputs": []
    },
    {
      "cell_type": "markdown",
      "source": [
        "**مدل بلک-شولز-مرتون**\n",
        "\n",
        "$$f_C =S_0 N(d_1) - K e^{-rT} N(d_2)$$\n",
        "$$f_P = K e^{-rT} N(-d_2)-S_0 N(-d_1)$$\n",
        "\n",
        "در این جا \n",
        "\n",
        "$$d_1 = \\frac{\\log(S_0/K)+(r-\\sigma^2 /2)T}{\\sqrt{T}\\sigma} $$\n",
        "$$d_2 = d_1 -\\sqrt{T}\\sigma$$"
      ],
      "metadata": {
        "id": "BwA-dRQQiaiG"
      }
    },
    {
      "cell_type": "code",
      "source": [
        "def get_d1(S, X, T, t, r, sigma):\n",
        "    return (np.log(S/X) + (r + sigma*sigma/2.)* (T - t)) / (sigma * np.sqrt(T - t))\n",
        "\n",
        "def get_d2(S, X, T, t, r, sigma):\n",
        "    d1 = get_d1(S, X, T, t, r, sigma)\n",
        "    return d1 - sigma * np.sqrt(T - t)\n",
        "from scipy import log,exp,sqrt,stats \n",
        "\n",
        "def bs_call(S,X,T,r,sigma):\n",
        "    d1 = (np.log(S/X)+(r+sigma*sigma/2.)*T)/(sigma*np.sqrt(T)) \n",
        "    d2 = d1-sigma*np.sqrt(T)\n",
        "    return S*stats.norm.cdf(d1)-X*np.exp(-r*T)*stats.norm.cdf(d2)\n",
        "def blackScholes(r, S, K, T, sigma, type = \"C\"):\n",
        "    d1 = get_d1(S, K, T, 0, r, sigma)\n",
        "    d2 = get_d2(S, K, T, 0, r, sigma)\n",
        "    if type == \"C\":\n",
        "        price =  S * norm.cdf(d1, 0, 1) - K * np.exp(-r*T) * norm.cdf(d2, 0 ,1)\n",
        "    elif type == \"P\":\n",
        "        price = K * np.exp(-r*T) * norm.cdf(-d2, 0, 1) - S * norm.cdf(-d1, 0, 1)\n",
        "    return price"
      ],
      "metadata": {
        "id": "VhJUezsclwGM"
      },
      "execution_count": null,
      "outputs": []
    },
    {
      "cell_type": "code",
      "source": [
        "c = bs_call(100., 105., 0.5, 0.015, 0.20)\n",
        "round(c, 3)"
      ],
      "metadata": {
        "id": "zGkkzWYYl3cn"
      },
      "execution_count": null,
      "outputs": []
    },
    {
      "cell_type": "markdown",
      "source": [
        "**حروف یونانی اختیار اروپایی**\n",
        "\n",
        "دلتا \n",
        "\n",
        "$\\Delta = \\frac{dV}{dS}$"
      ],
      "metadata": {
        "id": "vPkPsBj2l9VW"
      }
    },
    {
      "cell_type": "code",
      "source": [
        "def delta1(S, X, T, t, r, sigma):\n",
        "    return stats.norm.cdf(get_d1(S, X, T, t, r, sigma))\n",
        "delta1(40, 40, 0.1, 0.0, 0.015, 0.2)"
      ],
      "metadata": {
        "id": "2ipcZ7Gsl7VD"
      },
      "execution_count": null,
      "outputs": []
    },
    {
      "cell_type": "code",
      "source": [
        "t = 0.0\n",
        "T_1 = 0.1\n",
        "T_2 = 0.25\n",
        "T_3 = 0.5\n",
        "r = 0.015\n",
        "sigma = 0.2\n",
        "s = np.arange(10, 80, 1)\n",
        "x = 40\n",
        "font['size'] = 20\n",
        "deltas_1 = [delta1(p, x, T_1, t, r, sigma) for p in s]\n",
        "deltas_2 = [delta1(p, x, T_2, t, r, sigma) for p in s]\n",
        "deltas_3 = [delta1(p, x, T_3, t, r, sigma) for p in s]\n",
        "plt.figure(figsize=(16, 9))\n",
        "plt.ylim(-0.1, 1.1)\n",
        "plt.plot(s, deltas_1, label=f'T={T_1}')\n",
        "plt.plot(s, deltas_2, label=f'T={T_2}')\n",
        "plt.plot(s, deltas_3, label=f'T={T_3}')\n",
        "plt.title(\"Delta for European call (strike=40)\", fontdict=font)\n",
        "plt.xlabel(\"underlying price at time t=0\", fontdict=font)\n",
        "plt.ylabel(\"Delta\", fontdict=font)\n",
        "plt.grid(True)\n",
        "plt.legend(prop={'size': 18})\n",
        "plt.xticks(fontsize = 15)\n",
        "plt.yticks(fontsize = 15)\n",
        " \n",
        "plt.show()"
      ],
      "metadata": {
        "id": "BZbQ3-iQmqK-"
      },
      "execution_count": null,
      "outputs": []
    },
    {
      "cell_type": "code",
      "source": [
        "deltas_1 = [delta1(p, x, T_1, t, r, sigma) - 1 for p in s]\n",
        "deltas_2 = [delta1(p, x, T_2, t, r, sigma) - 1 for p in s]\n",
        "deltas_3 = [delta1(p, x, T_3, t, r, sigma) - 1 for p in s]\n",
        "plt.figure(figsize=(16, 9))\n",
        "plt.ylim(-1.1, 0.1)\n",
        "plt.plot(s, deltas_1, label=f'T={T_1}')\n",
        "plt.plot(s, deltas_2, label=f'T={T_2}')\n",
        "plt.plot(s, deltas_3, label=f'T={T_3}')\n",
        "plt.title(\"Delta for European put (strike=40)\", fontdict=font)\n",
        "plt.xlabel(\"underlying price\", fontdict=font)\n",
        "plt.ylabel(\"Delta\", fontdict=font)\n",
        "plt.grid(True)\n",
        "plt.legend(prop={'size': 18})\n",
        "plt.xticks(fontsize = 15)\n",
        "plt.yticks(fontsize = 15)\n",
        "\n",
        "plt.show()"
      ],
      "metadata": {
        "id": "agesK_4km_f6"
      },
      "execution_count": null,
      "outputs": []
    },
    {
      "cell_type": "markdown",
      "source": [
        "گاما\n",
        "\n",
        "$\\Gamma = \\frac{dV}{dK}$"
      ],
      "metadata": {
        "id": "Rsgn1P1MnZ2x"
      }
    },
    {
      "cell_type": "code",
      "source": [
        "def gamma(S, X, T, t, r, sigma):\n",
        "    d1 = get_d1(S, X, T, t, r, sigma)\n",
        "    return stats.norm.pdf(d1) / (S * sigma * np.sqrt(T - t))\n"
      ],
      "metadata": {
        "id": "G59ClrwMnDph"
      },
      "execution_count": null,
      "outputs": []
    },
    {
      "cell_type": "code",
      "source": [
        "gammas_1 = [gamma(p, x, T_1, t, r, sigma) for p in s]\n",
        "gammas_2 = [gamma(p, x, T_2, t, r, sigma) for p in s]\n",
        "gammas_3 = [gamma(p, x, T_3, t, r, sigma) for p in s]\n",
        "plt.figure(figsize=(16, 9))\n",
        "plt.ylim(0, 0.2)\n",
        "plt.plot(s, gammas_1, label=f'T={T_1}')\n",
        "plt.plot(s, gammas_2, label=f'T={T_2}')\n",
        "plt.plot(s, gammas_3, label=f'T={T_3}')\n",
        "plt.title(\"Gamma for European option (strike=40)\", fontdict=font)\n",
        "plt.xlabel(\"underlying price at time t=0\", fontdict=font)\n",
        "plt.ylabel(\"gamma\", fontdict=font)\n",
        "plt.grid(True)\n",
        "plt.legend(prop={'size': 18})\n",
        "plt.xticks(fontsize = 15)\n",
        "plt.yticks(fontsize = 15)\n",
        "\n",
        "plt.show()"
      ],
      "metadata": {
        "id": "H5EY3JqzoKPc"
      },
      "execution_count": null,
      "outputs": []
    },
    {
      "cell_type": "markdown",
      "source": [
        "**وگا**\n",
        "\n",
        "\n",
        "$\\mathit{V}=\\frac{dV}{d\\sigma}$"
      ],
      "metadata": {
        "id": "Xb29-QZx6_EI"
      }
    },
    {
      "cell_type": "code",
      "source": [
        "def vega(S, X, T, t, r, sigma):\n",
        "    d1 = get_d1(S, X, T, t, r, sigma)\n",
        "    return S * stats.norm.pdf(d1) * np.sqrt(T - t)\n",
        "vegas_1 = [vega(p, x, T_1, t, r, sigma) for p in s]\n",
        "vegas_2 = [vega(p, x, T_2, t, r, sigma) for p in s]\n",
        "vegas_3 = [vega(p, x, T_3, t, r, sigma) for p in s]\n",
        "plt.figure(figsize=(16, 9))\n",
        "plt.ylim(0, 15)\n",
        "plt.plot(s, vegas_1, label=f'T={T_1}')\n",
        "plt.plot(s, vegas_2, label=f'T={T_2}')\n",
        "plt.plot(s, vegas_3, label=f'T={T_3}')\n",
        "plt.title(\"Vega for European option (strike=40)\", fontdict=font)\n",
        "plt.xlabel(\"underlying price\", fontdict=font)\n",
        "plt.ylabel(\"Vega\", fontdict=font)\n",
        "plt.grid(True)\n",
        "plt.legend(prop={'size': 18})\n",
        "plt.xticks(fontsize = 15)\n",
        "plt.yticks(fontsize = 15)\n",
        "plt.show()\n"
      ],
      "metadata": {
        "id": "v_gQ0pgb66MO"
      },
      "execution_count": null,
      "outputs": []
    },
    {
      "cell_type": "markdown",
      "source": [
        "**تیتا**\n",
        "\n",
        "$\\Theta=\\frac{dV}{dt}$"
      ],
      "metadata": {
        "id": "FpTObiQJ75_M"
      }
    },
    {
      "cell_type": "code",
      "source": [
        "def theta(S, X, T, t, r, sigma, kind = 'call'):\n",
        "    d1 = get_d1(S, X, T, t, r, sigma)\n",
        "    d2 = get_d2(S, X, T, t, r, sigma)\n",
        "    tmp_1 = - (S * stats.norm.pdf(d1) * sigma) / (2 * np.sqrt(T - t))\n",
        "    if kind == 'call':\n",
        "        return tmp_1 - r * X * np.exp(-r * (T - t)) * stats.norm.cdf(d2)\n",
        "    else:\n",
        "        return tmp_1 + r * X * np.exp(-r * (T - t)) * stats.norm.cdf(-d2)\n",
        "thetas_1 = [theta(p, x, T_1, t, r, sigma) for p in s]\n",
        "thetas_2 = [theta(p, x, T_2, t, r, sigma) for p in s]\n",
        "thetas_3 = [theta(p, x, T_3, t, r, sigma) for p in s]\n",
        "plt.figure(figsize=(16, 9))\n",
        "plt.ylim(-6, 0.0)\n",
        "plt.plot(s, thetas_1, label=f'T={T_1}')\n",
        "plt.plot(s, thetas_2, label=f'T={T_2}')\n",
        "plt.plot(s, thetas_3, label=f'T={T_3}')\n",
        "plt.title(\"Theta for European call option (strike=40)\", fontdict=font)\n",
        "plt.xlabel(\"underlying price\", fontdict=font)\n",
        "plt.ylabel(\"Theta\", fontdict=font)\n",
        "plt.grid(True)\n",
        "plt.legend(prop={'size': 18})\n",
        "plt.xticks(fontsize = 15)\n",
        "plt.yticks(fontsize = 15)\n",
        "\n",
        "plt.show()"
      ],
      "metadata": {
        "id": "ln5OG9T18SJr"
      },
      "execution_count": null,
      "outputs": []
    },
    {
      "cell_type": "code",
      "source": [
        "thetas_1 = [theta(p, x, T_1, t, r, sigma, kind='put') for p in s]\n",
        "thetas_2 = [theta(p, x, T_2, t, r, sigma, kind='put') for p in s]\n",
        "thetas_3 = [theta(p, x, T_3, t, r, sigma, kind='put') for p in s]\n",
        "plt.figure(figsize=(16, 9))\n",
        "plt.ylim(-6, 0.0)\n",
        "plt.plot(s, thetas_1, label=f'T={T_1}')\n",
        "plt.plot(s, thetas_2, label=f'T={T_2}')\n",
        "plt.plot(s, thetas_3, label=f'T={T_3}')\n",
        "plt.title(\"Theta for European put option (strike=40)\", fontdict=font)\n",
        "plt.xlabel(\"underlying price\", fontdict=font)\n",
        "plt.ylabel(\"Theta\", fontdict=font)\n",
        "plt.grid(True)\n",
        "plt.legend(prop={'size': 18})\n",
        "plt.xticks(fontsize = 15)\n",
        "plt.yticks(fontsize = 15)\n",
        "plt.show()"
      ],
      "metadata": {
        "id": "3DNaKsJ98gIv"
      },
      "execution_count": null,
      "outputs": []
    }
  ]
}