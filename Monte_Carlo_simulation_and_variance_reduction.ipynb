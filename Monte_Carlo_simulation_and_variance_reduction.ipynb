{
  "nbformat": 4,
  "nbformat_minor": 0,
  "metadata": {
    "colab": {
      "name": "Monte Carlo simulation and variance reduction.ipynb",
      "private_outputs": true,
      "provenance": []
    },
    "kernelspec": {
      "name": "python3",
      "display_name": "Python 3"
    },
    "language_info": {
      "name": "python"
    }
  },
  "cells": [
    {
      "cell_type": "markdown",
      "source": [
        "#شبیه سازی مونت کارلو و کاهش واریانس\n",
        "<div dir=\"rtl\">\n",
        "مدل بلک شولز بیان می کند که قیمت دارایی به عنوان تابعی از زمان$S(t)$ از یک حرکت هندسی براونی پیروی می کند:\n",
        "\n",
        "$$dS=S\\mu dt + S \\sigma dW $$\n",
        "\n",
        "یک راه جایگزین برای محاسبه قیمت اختیار خرید، استفاده از روش‌های مونت کارلو است. نقطه شروع، گرفتن معادله حرکت براونی برای سهام اصلی $S(t)$ است:\n",
        "\n",
        "$$dS = S\\,r dt +S\\sigma dz\\,,$$\n",
        "\n",
        "جایی که ما $\\mu =r$ را تنظیم کرده ایم، زیرا در یک محیط بدون ریسک کار می کنیم. این معادله را می توان با طرح اویلر گسسته کرد. با انجام این کار، سطح شاخص سهام $S_T$ را در $T$ آینده با سطح $S_t$ به صورت زیر بدست می آوریم:\n",
        "\n",
        "$$S_{T} = S_{t}\\exp\\left(\\left(r-\\frac{1}{2}\\sigma^{2}\\right)(T-t) +\\sigma \\sqrt{T-t}\\,z\\right)\\,,$$\n",
        "\n",
        "که در آن $z$ یک متغیر تصادفی است که از توزیع نرمال پیروی می کند.\n",
        "<div>\n"
      ],
      "metadata": {
        "id": "v9x4HphMQzVh"
      }
    },
    {
      "cell_type": "code",
      "execution_count": null,
      "metadata": {
        "id": "8Poq5XhyPM6N"
      },
      "outputs": [],
      "source": [
        "import pandas as pd\n",
        "import numpy as np\n",
        "import matplotlib.pyplot as plt\n",
        "import random\n",
        "from math import *\n",
        "import time\n",
        "import scipy.stats"
      ]
    },
    {
      "cell_type": "code",
      "source": [
        "S0 = 100\n",
        "K = 100 #ATM Call option\n",
        "T = 1\n",
        "sigma = 0.20\n",
        "r = 0.01\n",
        "mu = 0.15\n",
        "n = 100 #Simulations number"
      ],
      "metadata": {
        "id": "MlyUg1A9RfRq"
      },
      "execution_count": null,
      "outputs": []
    },
    {
      "cell_type": "markdown",
      "source": [
        "<div dir=\"rtl\">\n",
        "n مسیر قیمت سهام را با حرکت هندسی براونی محاسبه کنید"
      ],
      "metadata": {
        "id": "revAanGPRqZm"
      }
    },
    {
      "cell_type": "code",
      "source": [
        "def GBM(S0,mu=0.15,sigma=0.3,T=1,n=100):\n",
        "    BM = []\n",
        "    steps = int(260*T) #Number of steps\n",
        "    dt = T/steps #Time step\n",
        "    \n",
        "    tt = np.arange(0,T,dt) #Timesteps\n",
        "    \n",
        "    for sim in range(n): #Generates n paths\n",
        "        S = np.zeros(steps)\n",
        "        S[0] = S0\n",
        "        for t in range(1,steps): #Simulates current Brownian motion\n",
        "            drift = (mu - 0.5 * (sigma ** 2)) * dt\n",
        "            dS = drift + sigma * np.random.normal(0,1) * np.sqrt(dt)\n",
        "            S[t] = S[t-1] * np.exp(dS)\n",
        "        BM.append(S)\n",
        "    \n",
        "    return BM\n",
        "start_time = time.time()\n",
        "BM = GBM(S0,r,sigma,T,n)\n",
        "print(\"--- %s seconds --- \" %(time.time() - start_time))\n",
        "for B in BM:\n",
        "    plt.plot(B)\n",
        "plt.xlabel(\"$t$\")\n",
        "plt.ylabel(\"$S_{t}$\")\n",
        "plt.title(\"Stock Price Paths with Geometric Brownian Motion\")\n",
        "plt.show()"
      ],
      "metadata": {
        "id": "p3Tyci9IRwqX"
      },
      "execution_count": null,
      "outputs": []
    },
    {
      "cell_type": "markdown",
      "source": [
        "<div dir=\"rtl\">\n",
        "\n",
        "شبیه سازی مونت کارلو برای به دست آوردن قیمت اختیار خرید\n"
      ],
      "metadata": {
        "id": "IXd9eAbaSEFo"
      }
    },
    {
      "cell_type": "code",
      "source": [
        "def MonteCarloEUCall(BM,K,r,T): #Monte Carlo for European Call options\n",
        "    #BM List of stock prices paths \n",
        "    #K Strike \n",
        "    #r Risk free interest rate\n",
        "    #T Maturity of the option\n",
        "    call_payoffs = [max(B[-1] - K,0) for B in BM]        #Call payoffs for each stock price path\n",
        "    mean_payoffs = np.mean(call_payoffs)\n",
        "    return call_payoffs, mean_payoffs * np.exp(-r*T)     #payoffs , Discounted mean of the payoffs to get the option price\n",
        "def empirical_sd(X):                                     #Computes the empirical standard deviation of a series\n",
        "    n = len(X)\n",
        "    s = 0\n",
        "    mu = np.mean(X)\n",
        "    for x in X:\n",
        "        s += (x - mu)**2\n",
        "    return np.sqrt(s/(n-1))\n",
        "def confidence_interval(call_payoffs,alpha):\n",
        "                                                          #call_payoffs List of the payoffs of the call options\n",
        "                                                          #alpha Incertitude level\n",
        "    \n",
        "    z = scipy.stats.norm.ppf(1-alpha/2)\n",
        "    mean_payoffs = np.mean(call_payoffs)\n",
        "    CI = [np.round(mean_payoffs - z * (empirical_sd(call_payoffs)/np.sqrt(n)),4),\n",
        "        np.round(mean_payoffs + z * ((empirical_sd(call_payoffs)/np.sqrt(n))),4)]\n",
        "    CI = np.exp(-r*T) * np.array(CI)                      #Discount the values\n",
        "    return CI\n",
        "call_payoffs1, c1 = MonteCarloEUCall(BM,K,r,T)\n",
        "alpha = 0.01\n",
        "call_payoffs = [max(B[-1] - K,0) for B in BM]\n",
        "CI1 = confidence_interval(call_payoffs,alpha)\n",
        "print(f\"The price of the call using the Monte Carlo Method is equal to : {round(c1,4)}\")\n",
        "print(f\"The confidence interval of the call price at a {(1 - alpha)*100}% confidence level is {CI1}\")\n",
        "print(\"--- %s seconds --- \" %(time.time() - start_time))"
      ],
      "metadata": {
        "id": "91NnLnv5SJC5"
      },
      "execution_count": null,
      "outputs": []
    },
    {
      "cell_type": "markdown",
      "source": [
        "#کاهش واریانس\n",
        "<div dir=\"rtl\">\n",
        "واریانس هر تخمین $\\mathbb{E}[h(X)]$ به دست آمده را محاسبه کنید. بر اساس بحث در مورد روش های نمونه گیری در سخنرانی، که اصولاً انتظار می رود توزیع های پیشنهادی به کدام روش های نمونه گیری منجر شود. واریانس کمتر؟ نتایج شما چقدر با این انتظارات مطابقت دارد؟\n",
        "سپس با استفاده از سه تکنیک مختلف کاهش واریانس قیمت گذاری می شود:\n",
        "\n",
        "1.   متغیر متضاد\n",
        "2.   متغیر کنترل\n",
        "\n"
      ],
      "metadata": {
        "id": "8oly7WszS-qF"
      }
    },
    {
      "cell_type": "markdown",
      "source": [
        "#متغیر متضاد\n"
      ],
      "metadata": {
        "id": "u5Rf2vJPUORn"
      }
    },
    {
      "cell_type": "code",
      "source": [
        "def GBMAV(S0,mu=0.15,sigma=0.3,T=1,n=100):\n",
        "    BM = []\n",
        "    steps = int(260*T) #Number of steps\n",
        "    dt = T/steps #Time step\n",
        "    \n",
        "    tt = np.arange(0,T,dt) #Timesteps\n",
        "    \n",
        "    for sim in range(n): #Generates n paths\n",
        "        S = np.zeros(steps)\n",
        "        S[0] = S0\n",
        "        for t in range(1,steps): #Simulates current Brownian motion\n",
        "            drift = (mu - 0.5 * (sigma ** 2)) * dt\n",
        "            dS = drift + sigma * (1-np.random.normal(0,1)) * np.sqrt(dt)\n",
        "            S[t] = S[t-1] * np.exp(dS)\n",
        "        BM.append(S)\n",
        "    \n",
        "    return BM\n",
        "start_time = time.time()\n",
        "BMAV = GBMAV(S0,r,sigma,T,n)\n",
        "print(\"--- %s seconds --- \" %(time.time() - start_time))\n",
        "for B in BMAV:\n",
        "    plt.plot(B)\n",
        "plt.xlabel(\"$t$\")\n",
        "plt.ylabel(\"$S_{t}$\")\n",
        "plt.title(\"Stock Price Paths with Geometric Brownian Motion\")\n",
        "plt.show()"
      ],
      "metadata": {
        "id": "JjFfaZjmdy1l"
      },
      "execution_count": null,
      "outputs": []
    },
    {
      "cell_type": "markdown",
      "source": [
        "#کنترل متغیر"
      ],
      "metadata": {
        "id": "oirj1OiHfym4"
      }
    },
    {
      "cell_type": "code",
      "source": [
        "def BetaEstimation(X,Y):\n",
        "    num = 0\n",
        "    denom = 0\n",
        "    e1,e2 =  np.mean(X), np.mean(Y)\n",
        "    for i,x in enumerate(X):\n",
        "        num += (X[i] - e1) * (Y[i] - e2)\n",
        "        denom += (X[i] - e1) ** 2\n",
        "    return num/denom\n",
        "K = 100\n",
        "Y = [max(B[-1] - K,0) for B in BM] \n",
        "X = [B[-1] for B in BM]\n",
        "beta = BetaEstimation(X,Y) #Coefficient that minimizes the variance\n",
        "Z = Y - beta * (X - BM[0][0]) #Control Variate #BM[0][0] = E[Z]\n",
        "var1 = np.var(Y)\n",
        "var2 = np.var(Z)\n",
        "print(f\"Original Variance of the call price : {var1}\")\n",
        "print(f\"Reduced Variance of the call price : {var2}\")\n",
        "plt.plot(Z)"
      ],
      "metadata": {
        "id": "EUVZ3gZRdyy7"
      },
      "execution_count": null,
      "outputs": []
    },
    {
      "cell_type": "code",
      "source": [
        ""
      ],
      "metadata": {
        "id": "97VQCPgVgIl0"
      },
      "execution_count": null,
      "outputs": []
    }
  ]
}